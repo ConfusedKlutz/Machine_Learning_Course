{
  "nbformat": 4,
  "nbformat_minor": 0,
  "metadata": {
    "colab": {
      "provenance": [],
      "authorship_tag": "ABX9TyNL9hOAS8KV/3v9slikSlW1",
      "include_colab_link": true
    },
    "kernelspec": {
      "name": "python3",
      "display_name": "Python 3"
    },
    "language_info": {
      "name": "python"
    }
  },
  "cells": [
    {
      "cell_type": "markdown",
      "metadata": {
        "id": "view-in-github",
        "colab_type": "text"
      },
      "source": [
        "<a href=\"https://colab.research.google.com/github/ConfusedKlutz/Machine_Learning_Course/blob/main/Assignment1_102216039_NUMPY_MachineLearning_.ipynb\" target=\"_parent\"><img src=\"https://colab.research.google.com/assets/colab-badge.svg\" alt=\"Open In Colab\"/></a>"
      ]
    },
    {
      "cell_type": "code",
      "execution_count": 3,
      "metadata": {
        "colab": {
          "base_uri": "https://localhost:8080/"
        },
        "id": "pPj1QAyQwqRR",
        "outputId": "bf5624cf-bd01-47cb-e9e0-176ad98a6ee8"
      },
      "outputs": [
        {
          "output_type": "stream",
          "name": "stdout",
          "text": [
            "[1 2 3 4 5]\n",
            "[5 4 3 2 1]\n"
          ]
        }
      ],
      "source": [
        "#reverse an array\n",
        "import numpy as np\n",
        "\n",
        "arr1 = np.array([1,2,3,4,5])\n",
        "print(arr1)\n",
        "rev_arr1 = np.flip(arr1)\n",
        "print(rev_arr1)\n",
        "\n"
      ]
    },
    {
      "cell_type": "code",
      "source": [
        "#flatten a numpy array #convert to 1D\n",
        "arr2 = np.array([[1,2,3],[4,5,6],[7,8,9]])\n",
        "print(arr2)\n",
        "flat_arr2 = arr2.flatten()\n",
        "print(flat_arr2)\n",
        "\n"
      ],
      "metadata": {
        "colab": {
          "base_uri": "https://localhost:8080/"
        },
        "id": "NIapDuiUxApR",
        "outputId": "2d3f8160-150b-4590-db77-1fcbe2d7aa38"
      },
      "execution_count": 4,
      "outputs": [
        {
          "output_type": "stream",
          "name": "stdout",
          "text": [
            "[[1 2 3]\n",
            " [4 5 6]\n",
            " [7 8 9]]\n",
            "[1 2 3 4 5 6 7 8 9]\n"
          ]
        }
      ]
    },
    {
      "cell_type": "code",
      "source": [
        "#compare the following numoy array\n",
        "arr1 = np.array([[1,2],[3,4]])\n",
        "arr2 = np.array([[1,2],[3,4]])\n",
        "print(np.array_equal(arr1,arr2))"
      ],
      "metadata": {
        "colab": {
          "base_uri": "https://localhost:8080/"
        },
        "id": "kq2yMiu8xmJ5",
        "outputId": "9503a2fe-420a-4eb2-c26a-cb8b752f6b64"
      },
      "execution_count": 5,
      "outputs": [
        {
          "output_type": "stream",
          "name": "stdout",
          "text": [
            "True\n"
          ]
        }
      ]
    },
    {
      "cell_type": "code",
      "source": [
        "from posixpath import normpath\n",
        "#FIND THE MOST FREQUENT VALUE IN AN ARRAY\n",
        "arr = np.array([0,1,3,2,2,3,4,5,2,1,2,1])\n",
        "most_frequent_value_index = np.bincount(arr).argmax()\n",
        "#find index of the most frequent value\n",
        "most_frequent_value_index = np.where(arr == most_frequent_value_index)[0]\n",
        "print(most_frequent_value_index)"
      ],
      "metadata": {
        "colab": {
          "base_uri": "https://localhost:8080/"
        },
        "id": "9yBUPgCcyYKZ",
        "outputId": "f8bad6fc-ebb9-4072-fded-efd64b516ee5"
      },
      "execution_count": 6,
      "outputs": [
        {
          "output_type": "stream",
          "name": "stdout",
          "text": [
            "[ 3  4  8 10]\n"
          ]
        }
      ]
    },
    {
      "cell_type": "code",
      "source": [
        "#print sum of all elements in an array\n",
        "arr = np.array([1,2,3,4,5])\n",
        "print(np.sum(arr))\n",
        "\n",
        "#print the sum of all elements row-wise\n",
        "arr = np.array([[1,2,3],[4,5,6],[7,8,9]])\n",
        "print(np.sum(arr,axis=1))\n",
        "\n",
        "#print the sum of all elements column-wise\n",
        "arr = np.array([[1,2,3],[4,5,6],[7,8,9]])\n",
        "print(np.sum(arr,axis=0))\n",
        "\n",
        "array = np.array([range(10),range(10),range(10),range(10)])  #\n",
        "\n",
        "summation = np.sum(array,axis=1).tolist()  #returns a list of the sums\n",
        "\n",
        "print (summation)\n",
        "print (type(summation))"
      ],
      "metadata": {
        "colab": {
          "base_uri": "https://localhost:8080/"
        },
        "id": "IK4oF4Iu1OEY",
        "outputId": "77a6812d-17e9-42f6-fe69-89b47178b11c"
      },
      "execution_count": 7,
      "outputs": [
        {
          "output_type": "stream",
          "name": "stdout",
          "text": [
            "15\n",
            "[ 6 15 24]\n",
            "[12 15 18]\n",
            "[45, 45, 45, 45]\n",
            "<class 'list'>\n"
          ]
        }
      ]
    },
    {
      "cell_type": "code",
      "source": [
        "#for a matrix find the sum of diagonal elements\n",
        "arr = np.array([[1,2,3],[4,5,6],[7,8,9]])\n",
        "print(np.trace(arr))\n",
        "\n",
        "# create numpy 2d-array\n",
        "m = np.array([[1, 2],\n",
        "              [2, 3]])\n",
        "print(\"Printing the Original square array:\\n\",\n",
        "      m)\n",
        "# finding eigenvalues and eigenvectors\n",
        "w, v = np.linalg.eig(m)\n",
        "# printing eigen values\n",
        "print(\"Printing the Eigen values of the given square array:\\n\",\n",
        "      w)\n",
        "# printing eigen vectors\n",
        "print(\"Printing Right eigenvectors of the given square array:\\n\",v)\n",
        "\n",
        "\n",
        "#print the determinant of a matrix\n",
        "print(np.linalg.det(arr))\n",
        "\n",
        "arr2 = np.array([[1,2],[3,4]])\n",
        "print(np.linalg.det(arr2))\n",
        "print(np.linalg.inv(arr2))"
      ],
      "metadata": {
        "colab": {
          "base_uri": "https://localhost:8080/"
        },
        "id": "RHMZI2qL0GLI",
        "outputId": "6ea6057a-8f20-4644-90e2-ec584a3c185a"
      },
      "execution_count": 8,
      "outputs": [
        {
          "output_type": "stream",
          "name": "stdout",
          "text": [
            "15\n",
            "Printing the Original square array:\n",
            " [[1 2]\n",
            " [2 3]]\n",
            "Printing the Eigen values of the given square array:\n",
            " [-0.23606798  4.23606798]\n",
            "Printing Right eigenvectors of the given square array:\n",
            " [[-0.85065081 -0.52573111]\n",
            " [ 0.52573111 -0.85065081]]\n",
            "0.0\n",
            "-2.0000000000000004\n",
            "[[-2.   1. ]\n",
            " [ 1.5 -0.5]]\n"
          ]
        }
      ]
    },
    {
      "cell_type": "code",
      "source": [
        "#find the covariance between the matrices lists of list\n",
        "arr1 = np.array([[1,2],[3,4]])\n",
        "arr2 = np.array([[1,2],[3,4]])\n",
        "print(np.cov(arr1,arr2))"
      ],
      "metadata": {
        "colab": {
          "base_uri": "https://localhost:8080/"
        },
        "id": "ZY75Gerf7Ijq",
        "outputId": "06183433-fa1b-4861-8b6a-d6816e14f004"
      },
      "execution_count": 9,
      "outputs": [
        {
          "output_type": "stream",
          "name": "stdout",
          "text": [
            "[[0.5 0.5 0.5 0.5]\n",
            " [0.5 0.5 0.5 0.5]\n",
            " [0.5 0.5 0.5 0.5]\n",
            " [0.5 0.5 0.5 0.5]]\n"
          ]
        }
      ]
    },
    {
      "cell_type": "code",
      "source": [
        "#multiply the following matrices\n",
        "arr1 = np.array([[1,2],[3,4]])\n",
        "arr2 = np.array([[4,5],[5,6]])\n",
        "print(np.multiply(arr1,arr2))"
      ],
      "metadata": {
        "colab": {
          "base_uri": "https://localhost:8080/"
        },
        "id": "1R6ObHD-fbDR",
        "outputId": "ae97892c-6a8c-4502-952f-08b6b74cd313"
      },
      "execution_count": 10,
      "outputs": [
        {
          "output_type": "stream",
          "name": "stdout",
          "text": [
            "[[ 4 10]\n",
            " [15 24]]\n"
          ]
        }
      ]
    },
    {
      "cell_type": "code",
      "source": [
        "#For the matrices, x = np.array([[2,3,4],[3,2,9]]), y =np.array([[1,5,0], [5,10,3]]), find inner, outer, and cartesian product?\n",
        "import numpy as np\n",
        "\n",
        "# Matrices\n",
        "x = np.array([[2, 3, 4], [3, 2, 9]])\n",
        "y = np.array([[1, 5, 0], [5, 10, 3]])\n",
        "\n",
        "# Inner Product\n",
        "inner_product = np.dot(x, y.T)\n",
        "\n",
        "# Outer Product\n",
        "outer_product = np.outer(x, y)\n",
        "\n",
        "# Cartesian Product\n",
        "# Creating a Cartesian product involves pairing each element from the flattened x with each element from the flattened y\n",
        "cartesian_product = np.array(np.meshgrid(x.flatten(), y.flatten())).T.reshape(-1, 2)  #flatten converts the 2d arrays into 1d arrays; then meshgrid works to convert the 1d array into a coordinate grid, which is basically the cartesian product\n",
        "\n",
        "\n",
        "inner_product, outer_product, cartesian_product\n",
        "\n",
        "\n"
      ],
      "metadata": {
        "colab": {
          "base_uri": "https://localhost:8080/"
        },
        "id": "2fffohEKfke4",
        "outputId": "cdea891a-7728-4e25-86c1-98f092e8c74e"
      },
      "execution_count": 11,
      "outputs": [
        {
          "output_type": "execute_result",
          "data": {
            "text/plain": [
              "(array([[17, 52],\n",
              "        [13, 62]]),\n",
              " array([[ 2, 10,  0, 10, 20,  6],\n",
              "        [ 3, 15,  0, 15, 30,  9],\n",
              "        [ 4, 20,  0, 20, 40, 12],\n",
              "        [ 3, 15,  0, 15, 30,  9],\n",
              "        [ 2, 10,  0, 10, 20,  6],\n",
              "        [ 9, 45,  0, 45, 90, 27]]),\n",
              " array([[ 2,  1],\n",
              "        [ 2,  5],\n",
              "        [ 2,  0],\n",
              "        [ 2,  5],\n",
              "        [ 2, 10],\n",
              "        [ 2,  3],\n",
              "        [ 3,  1],\n",
              "        [ 3,  5],\n",
              "        [ 3,  0],\n",
              "        [ 3,  5],\n",
              "        [ 3, 10],\n",
              "        [ 3,  3],\n",
              "        [ 4,  1],\n",
              "        [ 4,  5],\n",
              "        [ 4,  0],\n",
              "        [ 4,  5],\n",
              "        [ 4, 10],\n",
              "        [ 4,  3],\n",
              "        [ 3,  1],\n",
              "        [ 3,  5],\n",
              "        [ 3,  0],\n",
              "        [ 3,  5],\n",
              "        [ 3, 10],\n",
              "        [ 3,  3],\n",
              "        [ 2,  1],\n",
              "        [ 2,  5],\n",
              "        [ 2,  0],\n",
              "        [ 2,  5],\n",
              "        [ 2, 10],\n",
              "        [ 2,  3],\n",
              "        [ 9,  1],\n",
              "        [ 9,  5],\n",
              "        [ 9,  0],\n",
              "        [ 9,  5],\n",
              "        [ 9, 10],\n",
              "        [ 9,  3]]))"
            ]
          },
          "metadata": {},
          "execution_count": 11
        }
      ]
    },
    {
      "cell_type": "markdown",
      "source": [
        "# **What is np.meshgrid?**\n",
        "\n",
        "np.meshgrid is a NumPy function that takes two arrays and creates a grid of coordinates from them. It essentially helps you pair every element of the first array with every element of the second array.\n",
        "Simple Example\n",
        "\n",
        "Let's say you have two lists of numbers:\n",
        "\n",
        "    x = [1, 2]\n",
        "    y = [3, 4]\n",
        "\n",
        "You want to pair each number in x with each number in y. This would mean:\n",
        "\n",
        "    Pair 1 from x with both 3 and 4 from y.\n",
        "    Pair 2 from x with both 3 and 4 from y.\n",
        "\n",
        "This gives you four pairs: (1, 3), (1, 4), (2, 3), and (2, 4)\n",
        "\n",
        "\n"
      ],
      "metadata": {
        "id": "ZKjNShonl8Hy"
      }
    },
    {
      "cell_type": "code",
      "source": [
        "np.meshgrid(x, y)"
      ],
      "metadata": {
        "colab": {
          "base_uri": "https://localhost:8080/"
        },
        "id": "yECgN8yNk468",
        "outputId": "a846769c-c7b2-4bde-87e6-79801af1df46"
      },
      "execution_count": 12,
      "outputs": [
        {
          "output_type": "execute_result",
          "data": {
            "text/plain": [
              "[array([[2, 3, 4, 3, 2, 9],\n",
              "        [2, 3, 4, 3, 2, 9],\n",
              "        [2, 3, 4, 3, 2, 9],\n",
              "        [2, 3, 4, 3, 2, 9],\n",
              "        [2, 3, 4, 3, 2, 9],\n",
              "        [2, 3, 4, 3, 2, 9]]),\n",
              " array([[ 1,  1,  1,  1,  1,  1],\n",
              "        [ 5,  5,  5,  5,  5,  5],\n",
              "        [ 0,  0,  0,  0,  0,  0],\n",
              "        [ 5,  5,  5,  5,  5,  5],\n",
              "        [10, 10, 10, 10, 10, 10],\n",
              "        [ 3,  3,  3,  3,  3,  3]])]"
            ]
          },
          "metadata": {},
          "execution_count": 12
        }
      ]
    },
    {
      "cell_type": "code",
      "source": [
        "array = np.array([[1, -2, 3],[-4, 5, -6]])\n",
        "absolute_values = np.abs(array)\n",
        "print(absolute_values)\n",
        "\n",
        "# Flattened array percentiles\n",
        "flattened_array = array.flatten()\n",
        "percentiles_flattened = np.percentile(flattened_array, [25, 50, 75])\n",
        "\n",
        "# Percentiles for each column\n",
        "percentiles_columns = np.percentile(array, [25, 50, 75], axis=0)\n",
        "\n",
        "# Percentiles for each row\n",
        "percentiles_rows = np.percentile(array, [25, 50, 75], axis=1)\n",
        "\n",
        "print(\"Percentiles (Flattened):\", percentiles_flattened)\n",
        "print(\"Percentiles (Columns):\", percentiles_columns)\n",
        "print(\"Percentiles (Rows):\", percentiles_rows)\n",
        "\n",
        "# Flattened array\n",
        "mean_flattened = np.mean(flattened_array)\n",
        "median_flattened = np.median(flattened_array)\n",
        "std_flattened = np.std(flattened_array)\n",
        "\n",
        "# Each column\n",
        "mean_columns = np.mean(array, axis=0)\n",
        "median_columns = np.median(array, axis=0)\n",
        "std_columns = np.std(array, axis=0)\n",
        "\n",
        "# Each row\n",
        "mean_rows = np.mean(array, axis=1)\n",
        "median_rows = np.median(array, axis=1)\n",
        "std_rows = np.std(array, axis=1)\n",
        "\n",
        "print(\"Flattened - Mean:\", mean_flattened, \"Median:\", median_flattened, \"STD:\", std_flattened)\n",
        "print(\"Columns - Mean:\", mean_columns, \"Median:\", median_columns, \"STD:\", std_columns)\n",
        "print(\"Rows - Mean:\", mean_rows, \"Median:\", median_rows, \"STD:\", std_rows)\n",
        "\n"
      ],
      "metadata": {
        "colab": {
          "base_uri": "https://localhost:8080/"
        },
        "id": "nO9VllAEaR1_",
        "outputId": "349c5dea-4d60-4592-d464-209499df6ca3"
      },
      "execution_count": 13,
      "outputs": [
        {
          "output_type": "stream",
          "name": "stdout",
          "text": [
            "[[1 2 3]\n",
            " [4 5 6]]\n",
            "Percentiles (Flattened): [-3.5 -0.5  2.5]\n",
            "Percentiles (Columns): [[-2.75 -0.25 -3.75]\n",
            " [-1.5   1.5  -1.5 ]\n",
            " [-0.25  3.25  0.75]]\n",
            "Percentiles (Rows): [[-0.5 -5. ]\n",
            " [ 1.  -4. ]\n",
            " [ 2.   0.5]]\n",
            "Flattened - Mean: -0.5 Median: -0.5 STD: 3.8622100754188224\n",
            "Columns - Mean: [-1.5  1.5 -1.5] Median: [-1.5  1.5 -1.5] STD: [2.5 3.5 4.5]\n",
            "Rows - Mean: [ 0.66666667 -1.66666667] Median: [ 1. -4.] STD: [2.05480467 4.78423336]\n"
          ]
        }
      ]
    },
    {
      "cell_type": "code",
      "source": [
        "a = np.array([-1.8, -1.6, -0.5, 0.5,1.6, 1.8, 3.0])\n",
        "\n",
        "floor_values = np.floor(a)\n",
        "ceiling_values = np.ceil(a)\n",
        "truncated_values = np.trunc(a)\n",
        "rounded_values = np.round(a)\n",
        "\n",
        "print(\"Floor:\", floor_values)\n",
        "print(\"Ceiling:\", ceiling_values)\n",
        "print(\"Truncated:\", truncated_values)\n",
        "print(\"Rounded:\", rounded_values)\n"
      ],
      "metadata": {
        "colab": {
          "base_uri": "https://localhost:8080/"
        },
        "id": "s-x5Vv1wos_d",
        "outputId": "3d944198-403c-4345-d7f6-b1e9deb2276e"
      },
      "execution_count": 14,
      "outputs": [
        {
          "output_type": "stream",
          "name": "stdout",
          "text": [
            "Floor: [-2. -2. -1.  0.  1.  1.  3.]\n",
            "Ceiling: [-1. -1. -0.  1.  2.  2.  3.]\n",
            "Truncated: [-1. -1. -0.  0.  1.  1.  3.]\n",
            "Rounded: [-2. -2. -0.  0.  2.  2.  3.]\n"
          ]
        }
      ]
    },
    {
      "cell_type": "code",
      "source": [
        "array = np.array([10, 52, 62, 16, 16, 54, 453])\n",
        "sorted_array = np.sort(array)\n",
        "print(sorted_array)\n",
        "\n",
        "indices_sorted = np.argsort(array)\n",
        "print(indices_sorted)\n",
        "\n",
        "smallest_4 = np.sort(array)[:4]\n",
        "print(smallest_4)\n",
        "\n",
        "largest_5 = np.sort(array)[-5:]\n",
        "print(largest_5)\n",
        "\n"
      ],
      "metadata": {
        "colab": {
          "base_uri": "https://localhost:8080/"
        },
        "id": "2N_y0MTNrk38",
        "outputId": "b214ebf6-8896-4135-af6f-cd30f1e97588"
      },
      "execution_count": 15,
      "outputs": [
        {
          "output_type": "stream",
          "name": "stdout",
          "text": [
            "[ 10  16  16  52  54  62 453]\n",
            "[0 3 4 1 5 2 6]\n",
            "[10 16 16 52]\n",
            "[ 16  52  54  62 453]\n"
          ]
        }
      ]
    },
    {
      "cell_type": "code",
      "source": [
        "array = np.array([1.0, 1.2, 2.2, 2.0, 3.0, 2.0])\n",
        "#print only the integer values\n",
        "print(array[array == array.astype(int)])\n",
        "#print only the float elements\n",
        "print(array[array == array.astype(float)])"
      ],
      "metadata": {
        "colab": {
          "base_uri": "https://localhost:8080/"
        },
        "id": "bx7WIdTgxG5d",
        "outputId": "23421708-3748-44ac-c4ea-7b9a58ffc9ff"
      },
      "execution_count": 16,
      "outputs": [
        {
          "output_type": "stream",
          "name": "stdout",
          "text": [
            "[1. 2. 3. 2.]\n",
            "[1.  1.2 2.2 2.  3.  2. ]\n"
          ]
        }
      ]
    },
    {
      "cell_type": "code",
      "source": [
        "import numpy as np\n",
        "import cv2\n",
        "from PIL import Image\n",
        "import os\n",
        "\n",
        "def img_to_array(path):\n",
        "    # Open the image using OpenCV\n",
        "    img = cv2.imread(path)\n",
        "\n",
        "    # Check if the image is loaded properly\n",
        "    if img is None:\n",
        "        print(\"Error: Image not found or unable to load.\")\n",
        "        return None\n",
        "\n",
        "    # Convert the RGB image to grayscale using OpenCV\n",
        "    grayscale_image = cv2.cvtColor(img, cv2.COLOR_BGR2GRAY)\n",
        "\n",
        "    # Save the grayscale image array to a text file\n",
        "    np.savetxt(\"grayscale_image.txt\", grayscale_image, fmt='%d')\n",
        "    print(\"Grayscale image saved as grayscale_image.txt\")\n",
        "\n",
        "    # Return the original BGR image (OpenCV loads images as BGR)\n",
        "    return img\n",
        "\n",
        "# Store the path to the image in a variable\n",
        "image_path = '/content/image.png'\n",
        "\n",
        "# Call the function with the image path\n",
        "img_array = img_to_array(image_path)\n",
        "\n",
        "# Check if grayscale_image.txt was created and load it\n",
        "if os.path.exists(\"grayscale_image.txt\"):\n",
        "    # Load the grayscale image from the text file\n",
        "    grayscale_image = np.loadtxt(\"grayscale_image.txt\")\n",
        "    # Display the loaded grayscale image array\n",
        "    print(\"Loaded Grayscale Image Array:\")\n",
        "    print(grayscale_image)\n",
        "\n",
        "# Convert the OpenCV BGR image to RGB format (if you need the RGB channels)\n",
        "if img_array is not None and img_array.ndim == 3:\n",
        "    img_array_rgb = cv2.cvtColor(img_array, cv2.COLOR_BGR2RGB)\n",
        "\n",
        "    # Save each channel of the RGB image separately\n",
        "    for i in range(3):\n",
        "        np.savetxt(f\"rgb_image_channel_{i}.txt\", img_array_rgb[:, :, i], fmt='%d')\n",
        "    print(\"RGB image channels saved as rgb_image_channel_0.txt, rgb_image_channel_1.txt, rgb_image_channel_2.txt\")\n",
        "\n",
        "    # Load each channel of the RGB image from their respective text files\n",
        "    channel_0 = np.loadtxt(\"rgb_image_channel_0.txt\")\n",
        "    channel_1 = np.loadtxt(\"rgb_image_channel_1.txt\")\n",
        "    channel_2 = np.loadtxt(\"rgb_image_channel_2.txt\")\n",
        "\n",
        "    # Stack the channels to reconstruct the RGB image\n",
        "    rgb_image = np.stack([channel_0, channel_1, channel_2], axis=-1)\n",
        "\n",
        "    # Display the loaded RGB image array\n",
        "    print(\"Loaded RGB Image Array:\")\n",
        "    print(rgb_image)\n",
        "\n",
        "    # Optionally, you can convert the loaded RGB image to grayscale using numpy\n",
        "    grayscale_image_np = np.dot(rgb_image[..., :3], [0.2989, 0.5870, 0.1140])\n",
        "\n",
        "    print(\"Converted Grayscale Image Array (using numpy):\")\n",
        "    print(grayscale_image_np)\n"
      ],
      "metadata": {
        "id": "UlziUkNcy9qY",
        "colab": {
          "base_uri": "https://localhost:8080/"
        },
        "outputId": "c48b0344-0502-4ccb-a8e0-0ab4ab699891"
      },
      "execution_count": 26,
      "outputs": [
        {
          "output_type": "stream",
          "name": "stdout",
          "text": [
            "Grayscale image saved as grayscale_image.txt\n",
            "Loaded Grayscale Image Array:\n",
            "[[224. 224. 224. ... 255. 255. 255.]\n",
            " [224. 224. 224. ... 255. 255. 255.]\n",
            " [224. 224. 224. ... 255. 255. 255.]\n",
            " ...\n",
            " [ 21.  19.  21. ...  64.  61.  61.]\n",
            " [ 21.  19.  21. ...  64.  62.  62.]\n",
            " [ 21.  18.  21. ...  65.  62.  62.]]\n",
            "RGB image channels saved as rgb_image_channel_0.txt, rgb_image_channel_1.txt, rgb_image_channel_2.txt\n",
            "Loaded RGB Image Array:\n",
            "[[[224. 224. 224.]\n",
            "  [224. 224. 224.]\n",
            "  [224. 224. 224.]\n",
            "  ...\n",
            "  [255. 255. 255.]\n",
            "  [255. 255. 255.]\n",
            "  [255. 255. 255.]]\n",
            "\n",
            " [[224. 224. 224.]\n",
            "  [224. 224. 224.]\n",
            "  [224. 224. 224.]\n",
            "  ...\n",
            "  [255. 255. 255.]\n",
            "  [255. 255. 255.]\n",
            "  [255. 255. 255.]]\n",
            "\n",
            " [[224. 224. 224.]\n",
            "  [224. 224. 224.]\n",
            "  [224. 224. 224.]\n",
            "  ...\n",
            "  [255. 255. 255.]\n",
            "  [255. 255. 255.]\n",
            "  [255. 255. 255.]]\n",
            "\n",
            " ...\n",
            "\n",
            " [[ 21.  21.  21.]\n",
            "  [ 19.  19.  19.]\n",
            "  [ 21.  21.  21.]\n",
            "  ...\n",
            "  [ 64.  64.  64.]\n",
            "  [ 61.  61.  61.]\n",
            "  [ 61.  61.  61.]]\n",
            "\n",
            " [[ 21.  21.  21.]\n",
            "  [ 19.  19.  19.]\n",
            "  [ 21.  21.  21.]\n",
            "  ...\n",
            "  [ 64.  64.  64.]\n",
            "  [ 62.  62.  62.]\n",
            "  [ 62.  62.  62.]]\n",
            "\n",
            " [[ 21.  21.  21.]\n",
            "  [ 18.  18.  18.]\n",
            "  [ 21.  21.  21.]\n",
            "  ...\n",
            "  [ 65.  65.  65.]\n",
            "  [ 62.  62.  62.]\n",
            "  [ 62.  62.  62.]]]\n",
            "Converted Grayscale Image Array (using numpy):\n",
            "[[223.9776 223.9776 223.9776 ... 254.9745 254.9745 254.9745]\n",
            " [223.9776 223.9776 223.9776 ... 254.9745 254.9745 254.9745]\n",
            " [223.9776 223.9776 223.9776 ... 254.9745 254.9745 254.9745]\n",
            " ...\n",
            " [ 20.9979  18.9981  20.9979 ...  63.9936  60.9939  60.9939]\n",
            " [ 20.9979  18.9981  20.9979 ...  63.9936  61.9938  61.9938]\n",
            " [ 20.9979  17.9982  20.9979 ...  64.9935  61.9938  61.9938]]\n"
          ]
        }
      ]
    },
    {
      "cell_type": "code",
      "source": [],
      "metadata": {
        "id": "OT_SRyvY4FmE"
      },
      "execution_count": null,
      "outputs": []
    }
  ]
}